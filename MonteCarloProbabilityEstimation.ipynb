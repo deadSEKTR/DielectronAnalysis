{
  "nbformat": 4,
  "nbformat_minor": 0,
  "metadata": {
    "colab": {
      "provenance": [],
      "gpuType": "V28",
      "authorship_tag": "ABX9TyMZTby0jhE/6HyVZFbYI1vw",
      "include_colab_link": true
    },
    "kernelspec": {
      "name": "python3",
      "display_name": "Python 3"
    },
    "language_info": {
      "name": "python"
    },
    "accelerator": "TPU"
  },
  "cells": [
    {
      "cell_type": "markdown",
      "metadata": {
        "id": "view-in-github",
        "colab_type": "text"
      },
      "source": [
        "<a href=\"https://colab.research.google.com/github/thethinkmachine/DielectronAnalysis/blob/main/MonteCarloProbabilityEstimation.ipynb\" target=\"_parent\"><img src=\"https://colab.research.google.com/assets/colab-badge.svg\" alt=\"Open In Colab\"/></a>"
      ]
    },
    {
      "cell_type": "markdown",
      "source": [
        "# ***Estimating the Probability of Rolling a Sum of 7 Using Monte Carlo Probability Estimation***\n",
        "\n",
        "## **The Experiment: In Theory**\n",
        "A standard six-sided die has faces numbered from 1 to 6. When rolling two dice, each die is independent of the other, so the total number of possible outcomes is the product of the number of faces on each die:\n",
        "\n",
        "$$ 6 \\times 6 = 36 $$\n",
        "\n",
        "Each pair of outcomes $die1$, $die2$ is equally likely, and there are 36 such pairs.\n",
        "\n",
        "Next, we identify all pairs of dice rolls ($die1$, $die2$) that sum to 7. These pairs are:\n",
        "\n",
        "1. (1, 6)\n",
        "2. (2, 5)\n",
        "3. (3, 4)\n",
        "4. (4, 3)\n",
        "5. (5, 2)\n",
        "6. (6, 1)\n",
        "\n",
        "Each of these pairs results in a sum of 7. There are 6 such pairs.\n",
        "\n",
        "### **Calculating the Probability**\n",
        "\n",
        "The probability of an event is given by the ratio of the number of successful outcomes to the total number of possible outcomes. In this case:\n",
        "\n",
        "- **Successful outcomes (sum equals 7)**: 6\n",
        "- **Total possible outcomes (all dice combinations)**: 36\n",
        "\n",
        "Thus, the probability \\( P \\) of rolling a sum of 7 with two dice is:\n",
        "\n",
        "$$ P(\\text{sum of 7}) = \\frac{\\text{Number of successful outcomes}}{\\text{Total number of possible outcomes}} = \\frac{6}{36} = \\frac{1}{6} \\approx 0.1667 $$\n",
        "\n",
        "This means that there is approximately a 16.67% chance of rolling a sum of 7 with two six-sided dice."
      ],
      "metadata": {
        "id": "6Mxl_q9AUWxK"
      }
    },
    {
      "cell_type": "markdown",
      "source": [
        "# **The Experiment: In Practice**\n",
        "\n",
        "## 1. Setting up Colab environment\n",
        "\n",
        "*   We initialize the simulation environment by importing Numpy, which will be used to perform numerical operations and visualize the results.\n",
        "\n"
      ],
      "metadata": {
        "id": "3SWxg4iiVxqx"
      }
    },
    {
      "cell_type": "code",
      "execution_count": 1,
      "metadata": {
        "id": "0un9OsmSMMm8"
      },
      "outputs": [],
      "source": [
        "# Import necessary libraries\n",
        "import numpy as np"
      ]
    },
    {
      "cell_type": "markdown",
      "source": [
        "# 2. Defining the simulation\n",
        "* We create a function that simulates rolling two six-sided dice and returns the sum of the numbers. This function will be used repeatedly to generate a large number of dice rolls."
      ],
      "metadata": {
        "id": "1pGUO6eyWeUk"
      }
    },
    {
      "cell_type": "code",
      "source": [
        "# Function to simulate the event\n",
        "def simulate_dice_roll():\n",
        "    die1 = np.random.randint(1, 7)\n",
        "    die2 = np.random.randint(1, 7)\n",
        "    return die1 + die2 == 7\n"
      ],
      "metadata": {
        "id": "62E1GpprRmiM"
      },
      "execution_count": 2,
      "outputs": []
    },
    {
      "cell_type": "markdown",
      "source": [
        "# 3. Runing Monte Carlo Simulations & Computing Estimated Probability\n",
        "* We simulate rolling the two dice a large number of times (e.g., 100,000 times) and record the sum of the numbers for each roll. This step generates the data needed for estimating the probability.\n",
        "* We then count the number of times the sum of the dice is 7. This count represents the number of successful outcomes where the desired event (sum of 7) occurs.\n",
        "* Lastly, we calculate the estimated probability by dividing the number of successful outcomes by the total number of simulations. This ratio gives the empirical probability of rolling a sum of 7."
      ],
      "metadata": {
        "id": "Frpsv264W42e"
      }
    },
    {
      "cell_type": "code",
      "source": [
        "# Number of simulations\n",
        "num_simulations = 1000000\n",
        "\n",
        "# Run simulations and count successes\n",
        "success_count = 0\n",
        "for i in range(num_simulations):\n",
        "    if simulate_dice_roll():\n",
        "        success_count += 1\n",
        "\n",
        "# Estimate the probability\n",
        "estimated_probability = success_count / num_simulations\n",
        "print(f\"Estimated Probability: {estimated_probability}\")\n"
      ],
      "metadata": {
        "colab": {
          "base_uri": "https://localhost:8080/"
        },
        "id": "Z9brEc8pRs_t",
        "outputId": "b587daa0-173e-4cd8-8726-bdc19303a34a"
      },
      "execution_count": 7,
      "outputs": [
        {
          "output_type": "stream",
          "name": "stdout",
          "text": [
            "Estimated Probability: 0.16629\n"
          ]
        }
      ]
    },
    {
      "cell_type": "markdown",
      "source": [
        "# **Result**\n",
        "\n",
        "The estimated probability from the simulation was 0.166.., which is remarkably close to the theoretical probability of 0.1667.\n",
        "\n",
        "# **Explanation for the observed result**\n",
        "\n",
        "The theoretical probability of rolling a sum of 7 with two six-sided dice can be calculated using combinations. There are 6 successful outcomes $1+6, 2+5, 3+4, 4+3, 5+2, 6+1$ out of a total of 36 possible outcomes when rolling two dice. Thus, the theoretical probability is:\n",
        "\n",
        "$$ P(\\text{sum of 7}) = \\frac{6}{36} = \\frac{1}{6} \\approx 0.1667 $$\n",
        "\n",
        "Monte Carlo simulations rely on random sampling to estimate probabilities. In our experiment, we conducted 100,000 iterations, where each iteration simulated rolling two dice and checking if their sum was 7. The frequency of obtaining a sum of 7 in these simulations was divided by the total number of iterations to yield the estimated probability.\n",
        "\n",
        "The reason our estimated probability (0.166..) is very close to the theoretical probability (0.1667) can be attributed to the Law of Large Numbers. This statistical principle states that as the number of trials in a random experiment increases, the empirical probability (observed in the simulations) tends to converge to the theoretical probability.\n",
        "\n",
        "While there is always some degree of random variation in Monte Carlo simulations, increasing the number of iterations reduces the impact of this variation. In our case, performing 100,000 iterations provided a sufficiently large sample size, ensuring that the random fluctuations averaged out and the estimated probability closely matched the theoretical value.\n",
        "\n",
        "___"
      ],
      "metadata": {
        "id": "FFYvNBT-YKqc"
      }
    }
  ]
}